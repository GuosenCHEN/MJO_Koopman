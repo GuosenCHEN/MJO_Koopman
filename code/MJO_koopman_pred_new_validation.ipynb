{
 "cells": [
  {
   "cell_type": "code",
   "execution_count": 1,
   "id": "56406be9",
   "metadata": {},
   "outputs": [],
   "source": [
    "import numpy as np\n",
    "from scipy import integrate\n",
    "import matplotlib.pyplot as plt\n",
    "from matplotlib.gridspec import GridSpec"
   ]
  },
  {
   "cell_type": "code",
   "execution_count": 2,
   "id": "7178bc2e",
   "metadata": {},
   "outputs": [
    {
     "name": "stdout",
     "output_type": "stream",
     "text": [
      "-0.0007754984883687232\n",
      "-0.0003406618866753187\n",
      "0.9682332168692224\n",
      "0.95991040399568\n",
      "(15871,)\n",
      "(15871,)\n",
      "(15871,)\n"
     ]
    }
   ],
   "source": [
    "pc1 = np.loadtxt('pc1_obs_iso_new2.txt')\n",
    "pc2 = np.loadtxt('pc2_obs_iso_new2.txt')\n",
    "phase = np.loadtxt('phase_obs_iso_new2.txt')\n",
    "\n",
    "std1=np.std(pc1)\n",
    "std2=np.std(pc2)\n",
    "avg1=np.mean(pc1)\n",
    "avg2=np.mean(pc2)\n",
    "\n",
    "#pc1=(pc1-avg1)/std1\n",
    "#pc2=(pc2-avg2)/std2\n",
    "print(avg1)\n",
    "print(avg2)\n",
    "print(std1)\n",
    "print(std2)\n",
    "\n",
    "print(pc1.shape)\n",
    "print(pc2.shape)\n",
    "print(phase.shape)"
   ]
  },
  {
   "cell_type": "code",
   "execution_count": 3,
   "id": "171d3226",
   "metadata": {},
   "outputs": [
    {
     "name": "stdout",
     "output_type": "stream",
     "text": [
      "['1979-04' '1979-04' '1979-04' '1979-04' '1979-04' '1979-04' '1979-04'\n",
      " '1979-04' '1979-04' '1979-04']\n",
      "datetime64[M]\n",
      "Index([4, 4, 4, 4, 4, 4, 4, 4, 4, 4], dtype='int32')\n",
      "(15871,)\n",
      "DatetimeIndex(['1979-04-11', '1979-04-12', '1979-04-13', '1979-04-14',\n",
      "               '1979-04-15', '1979-04-16', '1979-04-17', '1979-04-18',\n",
      "               '1979-04-19', '1979-04-20',\n",
      "               ...\n",
      "               '2022-09-13', '2022-09-14', '2022-09-15', '2022-09-16',\n",
      "               '2022-09-17', '2022-09-18', '2022-09-19', '2022-09-20',\n",
      "               '2022-09-21', '2022-09-22'],\n",
      "              dtype='datetime64[ns]', length=15871, freq='D')\n",
      "(15871,)\n"
     ]
    }
   ],
   "source": [
    "#rand=(np.random.rand(10)-0.5)*2.0*0.001\n",
    "#print(rand)\n",
    "#print(101//2)\n",
    "\n",
    "dates=np.arange('1979-04-11', '2022-09-23', dtype='datetime64[D]')\n",
    "#print(dates.shape)\n",
    "#print(dates)\n",
    "\n",
    "dates_mon=np.array(dates,dtype='datetime64[M]')\n",
    "print(dates_mon[0:10])\n",
    "print(dates_mon.dtype)\n",
    "\n",
    "dates_yr=np.array(dates,dtype='datetime64[Y]')\n",
    "#print(dates_yr)\n",
    "\n",
    "\n",
    "import pandas as pd \n",
    "  \n",
    "  \n",
    "dti = pd.date_range('1979-04-11', periods = 15871, freq ='D') \n",
    "print(dti.month[0:10]) \n",
    "print(dti.month.shape)\n",
    "print(dti)\n",
    "\n",
    "dti_mon=dti.month\n",
    "print(dti_mon.shape)"
   ]
  },
  {
   "cell_type": "code",
   "execution_count": 4,
   "id": "f8fb336c",
   "metadata": {},
   "outputs": [
    {
     "name": "stdout",
     "output_type": "stream",
     "text": [
      "(200, 15672)\n"
     ]
    }
   ],
   "source": [
    "stackmax=200\n",
    "H1=np.zeros((stackmax,pc1.shape[0]-stackmax+1))\n",
    "H2=np.zeros((stackmax,pc2.shape[0]-stackmax+1))\n",
    "\n",
    "H1_tmp=np.zeros((stackmax,pc1.shape[0]-stackmax+1))\n",
    "H2_tmp=np.zeros((stackmax,pc2.shape[0]-stackmax+1))\n",
    "print(H1.shape)\n",
    "\n",
    "H_dates=np.zeros((stackmax,pc1.shape[0]-stackmax+1))\n",
    "\n",
    "H_phase=np.zeros((stackmax,pc1.shape[0]-stackmax+1))\n",
    "\n",
    "\n",
    "H_dates_yrmon=np.zeros((stackmax,pc1.shape[0]-stackmax+1),dtype='datetime64[M]')\n"
   ]
  },
  {
   "cell_type": "code",
   "execution_count": 5,
   "id": "abd7a635",
   "metadata": {},
   "outputs": [],
   "source": [
    "for k in range(stackmax):\n",
    "    H1_tmp[k,:] = pc1[k:len(pc1)-(stackmax-1-k)]\n",
    "    H2_tmp[k,:] = pc2[k:len(pc2)-(stackmax-1-k)]\n",
    "    \n",
    "    H_dates[k,:] = dti_mon[k:len(pc2)-(stackmax-1-k)]\n",
    "    H_dates_yrmon[k,:] = dates_mon[k:len(pc2)-(stackmax-1-k)]\n",
    "    \n",
    "    H_phase[k,:] = phase[k:len(phase)-(stackmax-1-k)]\n",
    "\n",
    "    \n",
    "m = H1_tmp.shape[0]\n",
    "H1 = H1_tmp #-  H1_tmp[m//2,:]\n",
    "H2 = H2_tmp #-  H2_tmp[m//2,:]"
   ]
  },
  {
   "cell_type": "code",
   "execution_count": 6,
   "id": "1d11ea48",
   "metadata": {},
   "outputs": [
    {
     "name": "stdout",
     "output_type": "stream",
     "text": [
      "[9. 9. 9. 9. 9. 9. 9. 9. 9. 9.]\n",
      "['2012-09' '2012-09' '2012-09' '2012-09' '2012-09' '2012-09' '2012-09'\n",
      " '2012-09' '2012-09' '2012-09']\n"
     ]
    }
   ],
   "source": [
    "print(H_dates[-1,12000:12010])\n",
    "print(H_dates_yrmon[-1,12000:12010])"
   ]
  },
  {
   "cell_type": "code",
   "execution_count": 7,
   "id": "cae2a64d",
   "metadata": {},
   "outputs": [
    {
     "name": "stdout",
     "output_type": "stream",
     "text": [
      "(400, 15672)\n",
      "[ 0.361072   0.0212066 -0.3211246 -0.6511584 -0.9545222 -1.217864\n",
      " -1.429457  -1.579753  -1.661821  -1.671695 ]\n",
      "[ 0.361072   0.0212066 -0.3211246 -0.6511584 -0.9545222 -1.217864\n",
      " -1.429457  -1.579753  -1.661821  -1.671695 ]\n"
     ]
    }
   ],
   "source": [
    "H = np.vstack((H1,H2))\n",
    "H_2 = np.vstack((H1_tmp,H2_tmp))\n",
    "print(H.shape)\n",
    "print(H_2[0:10,0])\n",
    "print(H[0:10,0])"
   ]
  },
  {
   "cell_type": "code",
   "execution_count": 8,
   "id": "d72ba4c1",
   "metadata": {},
   "outputs": [
    {
     "name": "stdout",
     "output_type": "stream",
     "text": [
      "(15672, 400)\n"
     ]
    }
   ],
   "source": [
    "U, S, VT = np.linalg.svd(H,full_matrices=0)\n",
    "V=VT.T\n",
    "print(V.shape)\n",
    "#print(S)"
   ]
  },
  {
   "cell_type": "code",
   "execution_count": 9,
   "id": "100163bb",
   "metadata": {},
   "outputs": [
    {
     "data": {
      "image/png": "[encoded data removed]",
      "text/plain": [
       "<Figure size 640x480 with 1 Axes>"
      ]
     },
     "metadata": {},
     "output_type": "display_data"
    }
   ],
   "source": [
    "k=np.linspace(1, 100, 100)\n",
    "var=S**2/sum(S**2)*100\n",
    "fig, ax = plt.subplots()\n",
    "ax.plot(k[0:100], np.log10(S[0:100]))\n",
    "\n",
    "ax.set(xlabel='mode', ylabel='singular value',\n",
    "       title='SVD')\n",
    "ax.grid()\n",
    "plt.savefig(\"MJO_SVD.pdf\") \n"
   ]
  },
  {
   "cell_type": "code",
   "execution_count": 10,
   "id": "6b864670",
   "metadata": {},
   "outputs": [
    {
     "name": "stdout",
     "output_type": "stream",
     "text": [
      "99.99999996327448\n"
     ]
    }
   ],
   "source": [
    "print(sum(var[0:80]))"
   ]
  },
  {
   "cell_type": "markdown",
   "id": "a5d26c05",
   "metadata": {},
   "source": [
    "# Building the model"
   ]
  },
  {
   "cell_type": "code",
   "execution_count": 291,
   "id": "16d071f7",
   "metadata": {},
   "outputs": [
    {
     "name": "stdout",
     "output_type": "stream",
     "text": [
      "(15668, 191)\n",
      "(15668, 191)\n",
      "15672\n"
     ]
    }
   ],
   "source": [
    "r  = 191 #69 for bcor\n",
    "r2 = 1\n",
    "dt = 1\n",
    "dV = (1/(12*dt))*(-V[4:,0:r] + 8*V[3:-1,0:r] - 8*V[1:-3,0:r] + V[:-4,0:r])\n",
    "#dV = (1/(12*dt))*(-V[4:,:] + 8*V[3:-1,:] - 8*V[1:-3,:] + V[:-4,:])\n",
    "V2  = V[2:-2,0:r]\n",
    "#V2  = V[2:-2,:]\n",
    "print(dV.shape)\n",
    "print(V2.shape)\n",
    "print(len(V))"
   ]
  },
  {
   "cell_type": "code",
   "execution_count": 292,
   "id": "f6a7b07c",
   "metadata": {},
   "outputs": [
    {
     "name": "stdout",
     "output_type": "stream",
     "text": [
      "(190, 190)\n",
      "(190, 1)\n"
     ]
    }
   ],
   "source": [
    "Xi = np.linalg.lstsq(V2[0:10000,:],dV[0:10000,:],rcond=None)[0]\n",
    "A2  = Xi[:(r-r2),:(r-r2)].T\n",
    "#B2  = Xi[-r2:,:(r-r2)].T\n",
    "B2  = Xi[r-r2:r,:r-r2].T\n",
    "#B2=np.reshape(B2,(16,1))\n",
    "print(A2.shape)\n",
    "print(B2.shape)"
   ]
  },
  {
   "cell_type": "markdown",
   "id": "aa3d9411",
   "metadata": {},
   "source": [
    "# Validation"
   ]
  },
  {
   "cell_type": "code",
   "execution_count": 293,
   "id": "a177bc12",
   "metadata": {},
   "outputs": [],
   "source": [
    "from scipy.signal import lsim\n",
    "from scipy.signal import lti\n",
    "\n",
    "n_delays = stackmax-1\n",
    "t=np.arange(0,len(pc1))\n",
    "\n",
    "nlag=100\n",
    "N=1000\n",
    "L=25\n",
    "\n",
    "ypred_n=np.zeros((nlag,2,N))\n",
    "yreal_n=np.zeros((nlag,2,N))\n",
    "ysig_n=np.zeros((nlag+2*L,2,N))\n",
    "\n",
    "\n",
    "Ur = U[:, : r]\n",
    "sr = S[: r]\n",
    "VrT = VT[: r, :]\n",
    "Vr = VrT.T\n",
    "\n",
    "ur = Ur[:, :-r2] @ np.diag(sr[:-r2])\n"
   ]
  },
  {
   "cell_type": "code",
   "execution_count": 294,
   "id": "153dca79",
   "metadata": {},
   "outputs": [],
   "source": [
    "for i in range(0,N):\n",
    "    t0_2=10000+i*2\n",
    "    t0=n_delays*1+t0_2\n",
    "    y0 = (\n",
    "        # np.linalg.inv(np.diag(self.svals[: self.svd_rank - 1]))\n",
    "        # @\n",
    "        np.linalg.pinv(ur)\n",
    "        @ H[:,t0_2].T\n",
    "     )\n",
    "\n",
    "    \n",
    "\n",
    "    sys = lti(\n",
    "        #Xi[:(r-r2),:(r-r2)].T,\n",
    "        #Xi[-r2:,:(r-r2)].reshape(r-r2, r2),\n",
    "        A2,\n",
    "        B2,\n",
    "        ur,\n",
    "        np.zeros((stackmax*2, r2)),\n",
    "        )\n",
    "\n",
    "\n",
    "    tout2, ypred2, xpred2 = lsim(sys, U=Vr[t0_2:,-r2:]*0, T=t[t0:t0+nlag]-t[t0], X0=y0)\n",
    "    \n",
    "    ypred_n[:,0,i]=ypred2[:,stackmax-1]\n",
    "    ypred_n[:,1,i]=ypred2[:,-1]\n",
    "    \n",
    "    yreal_n[:,0,i]=H[stackmax-1,t0_2:t0_2+nlag]\n",
    "    yreal_n[:,1,i]=H[-1,t0_2:t0_2+nlag]\n",
    "    \n",
    "    ysig_n[:,0,i]=H_2[stackmax-1,t0_2-L:t0_2+nlag+L]\n",
    "    ysig_n[:,1,i]=H_2[-1,t0_2-L:t0_2+nlag+L]"
   ]
  },
  {
   "cell_type": "code",
   "execution_count": 295,
   "id": "05da86aa",
   "metadata": {},
   "outputs": [],
   "source": [
    "corr=np.zeros((nlag))"
   ]
  },
  {
   "cell_type": "code",
   "execution_count": 296,
   "id": "99f58e07",
   "metadata": {},
   "outputs": [],
   "source": [
    "for tau in range(0,nlag):\n",
    "    AO=np.dot(yreal_n[tau,0,:],yreal_n[tau,0,:])+np.dot(yreal_n[tau,1,:],yreal_n[tau,1,:])\n",
    "    AM=np.dot(ypred_n[tau,0,:],ypred_n[tau,0,:])+np.dot(ypred_n[tau,1,:],ypred_n[tau,1,:])\n",
    "    COM=np.dot(yreal_n[tau,0,:],ypred_n[tau,0,:])+np.dot(yreal_n[tau,1,:],ypred_n[tau,1,:])\n",
    "    corr[tau]=COM/np.sqrt((AO*AM))"
   ]
  },
  {
   "cell_type": "code",
   "execution_count": 297,
   "id": "76e9b8d3",
   "metadata": {},
   "outputs": [
    {
     "data": {
      "image/png": "[encoded data removed]",
      "text/plain": [
       "<Figure size 640x480 with 1 Axes>"
      ]
     },
     "metadata": {},
     "output_type": "display_data"
    }
   ],
   "source": [
    "k=np.linspace(0, nlag, nlag)\n",
    "fig, ax = plt.subplots()\n",
    "ax.plot(k, corr, k, k*0+0.5)\n",
    "\n",
    "ax.set(xlabel='lag', ylabel='BCORR',\n",
    "       title='prediction skill')\n",
    "ax.grid()"
   ]
  },
  {
   "cell_type": "code",
   "execution_count": 298,
   "id": "5026d6ab",
   "metadata": {},
   "outputs": [
    {
     "name": "stdout",
     "output_type": "stream",
     "text": [
      "40\n"
     ]
    }
   ],
   "source": [
    "ps=np.where(corr<0.5)\n",
    "print(ps[0][0])"
   ]
  },
  {
   "cell_type": "markdown",
   "id": "0a9bad5a",
   "metadata": {},
   "source": [
    "# Figure "
   ]
  },
  {
   "cell_type": "code",
   "execution_count": 308,
   "id": "3a68ad4b",
   "metadata": {},
   "outputs": [
    {
     "name": "stdout",
     "output_type": "stream",
     "text": [
      "[ 40.  50.  60.  70.  80.  90. 100. 110. 120. 130. 140. 150. 160. 170.\n",
      " 180. 190.]\n"
     ]
    },
    {
     "data": {
      "image/png": "[encoded data removed]",
      "text/plain": [
       "<Figure size 800x400 with 1 Axes>"
      ]
     },
     "metadata": {},
     "output_type": "display_data"
    }
   ],
   "source": [
    "fig, ax = plt.subplots(1,1,figsize=(8,4),layout='constrained')\n",
    "\n",
    "ps_val=[23, 30, 36, 36, 41, 38, 43, 39, 40, 40, 43, 43, 41, 40, 42, 40]\n",
    "\n",
    "tt=np.linspace(40, 190, 16)\n",
    "print(tt)\n",
    "\n",
    "ax.bar(tt, ps_val,width=5.0,color='cyan')\n",
    "ax.set_title('prediction skills on validation data', loc='center',fontsize=17.5) \n",
    "ax.set_xlabel('r', fontsize=15)\n",
    "ax.set_ylabel('PS',fontsize=15)\n",
    "ax.tick_params(axis='x', labelsize=15)\n",
    "ax.tick_params(axis='y', labelsize=15)\n",
    "ax.set_xlim([35, 185])\n",
    "ax.set_ylim([10, 45])\n",
    "ax.grid()\n",
    "\n",
    "\n",
    "\n",
    "plt.savefig(\"koopman_validation.pdf\") \n"
   ]
  }
 ],
 "metadata": {
  "kernelspec": {
   "display_name": "Python 3 (ipykernel)",
   "language": "python",
   "name": "python3"
  },
  "language_info": {
   "codemirror_mode": {
    "name": "ipython",
    "version": 3
   },
   "file_extension": ".py",
   "mimetype": "text/x-python",
   "name": "python",
   "nbconvert_exporter": "python",
   "pygments_lexer": "ipython3",
   "version": "3.10.14"
  }
 },
 "nbformat": 4,
 "nbformat_minor": 5
}
